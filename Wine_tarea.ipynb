{
  "nbformat": 4,
  "nbformat_minor": 0,
  "metadata": {
    "colab": {
      "name": "Wine tarea.ipynb",
      "provenance": [],
      "authorship_tag": "ABX9TyNrPeWD4IXZHKwDpzugkjEl",
      "include_colab_link": true
    },
    "kernelspec": {
      "name": "python3",
      "display_name": "Python 3"
    },
    "language_info": {
      "name": "python"
    }
  },
  "cells": [
    {
      "cell_type": "markdown",
      "metadata": {
        "id": "view-in-github",
        "colab_type": "text"
      },
      "source": [
        "<a href=\"https://colab.research.google.com/github/leikcaro/Wines/blob/main/Wine_tarea.ipynb\" target=\"_parent\"><img src=\"https://colab.research.google.com/assets/colab-badge.svg\" alt=\"Open In Colab\"/></a>"
      ]
    },
    {
      "cell_type": "code",
      "execution_count": null,
      "metadata": {
        "colab": {
          "base_uri": "https://localhost:8080/"
        },
        "id": "U6GTlKwUsmB0",
        "outputId": "ce737622-abd9-4cac-e587-f7819c852c19"
      },
      "outputs": [
        {
          "output_type": "stream",
          "name": "stdout",
          "text": [
            "Mounted at /content/drive\n"
          ]
        }
      ],
      "source": [
        "from google.colab import drive\n",
        "drive.mount('/content/drive')\n",
        "import pandas as pd\n",
        "import matplotlib.pyplot as plt\n",
        "import numpy as np\n",
        "from sklearn.model_selection import train_test_split\n",
        "from sklearn.preprocessing import StandardScaler\n",
        "from sklearn.linear_model import LinearRegression\n",
        "from sklearn.linear_model import LogisticRegression"
      ]
    },
    {
      "cell_type": "code",
      "source": [
        "filename = '/content/drive/MyDrive/Coding Dojo/Semana 7/wine.csv'\n",
        "col_names = ['Class label', 'Alcohol', 'Malic acid', 'Ash', 'Alcalinity of ash', 'Magnesium', 'Total phenols',\n",
        "'Flavanoids', 'Nonflavanoid phenols', 'Proanthocyanins','Color intensity', 'Hue', 'OD280/OD315 of diluted wines','Proline']\n",
        "### Figure this out!\n",
        "df = pd.read_csv(filename, header = None,names = col_names)\n",
        "df\n"
      ],
      "metadata": {
        "colab": {
          "base_uri": "https://localhost:8080/",
          "height": 424
        },
        "id": "YhCQHFJ3s__X",
        "outputId": "d9e4b88b-b169-42c6-cce5-6fc58addeb50"
      },
      "execution_count": null,
      "outputs": [
        {
          "output_type": "execute_result",
          "data": {
            "text/plain": [
              "     Class label  Alcohol  Malic acid   Ash  Alcalinity of ash  Magnesium  \\\n",
              "0              1    14.23        1.71  2.43               15.6        127   \n",
              "1              1    13.20        1.78  2.14               11.2        100   \n",
              "2              1    13.16        2.36  2.67               18.6        101   \n",
              "3              1    14.37        1.95  2.50               16.8        113   \n",
              "4              1    13.24        2.59  2.87               21.0        118   \n",
              "..           ...      ...         ...   ...                ...        ...   \n",
              "173            3    13.71        5.65  2.45               20.5         95   \n",
              "174            3    13.40        3.91  2.48               23.0        102   \n",
              "175            3    13.27        4.28  2.26               20.0        120   \n",
              "176            3    13.17        2.59  2.37               20.0        120   \n",
              "177            3    14.13        4.10  2.74               24.5         96   \n",
              "\n",
              "     Total phenols  Flavanoids  Nonflavanoid phenols  Proanthocyanins  \\\n",
              "0             2.80        3.06                  0.28             2.29   \n",
              "1             2.65        2.76                  0.26             1.28   \n",
              "2             2.80        3.24                  0.30             2.81   \n",
              "3             3.85        3.49                  0.24             2.18   \n",
              "4             2.80        2.69                  0.39             1.82   \n",
              "..             ...         ...                   ...              ...   \n",
              "173           1.68        0.61                  0.52             1.06   \n",
              "174           1.80        0.75                  0.43             1.41   \n",
              "175           1.59        0.69                  0.43             1.35   \n",
              "176           1.65        0.68                  0.53             1.46   \n",
              "177           2.05        0.76                  0.56             1.35   \n",
              "\n",
              "     Color intensity   Hue  OD280/OD315 of diluted wines  Proline  \n",
              "0               5.64  1.04                          3.92     1065  \n",
              "1               4.38  1.05                          3.40     1050  \n",
              "2               5.68  1.03                          3.17     1185  \n",
              "3               7.80  0.86                          3.45     1480  \n",
              "4               4.32  1.04                          2.93      735  \n",
              "..               ...   ...                           ...      ...  \n",
              "173             7.70  0.64                          1.74      740  \n",
              "174             7.30  0.70                          1.56      750  \n",
              "175            10.20  0.59                          1.56      835  \n",
              "176             9.30  0.60                          1.62      840  \n",
              "177             9.20  0.61                          1.60      560  \n",
              "\n",
              "[178 rows x 14 columns]"
            ],
            "text/html": [
              "\n",
              "  <div id=\"df-44b534d6-46a5-44c8-bfea-3a9214da52af\">\n",
              "    <div class=\"colab-df-container\">\n",
              "      <div>\n",
              "<style scoped>\n",
              "    .dataframe tbody tr th:only-of-type {\n",
              "        vertical-align: middle;\n",
              "    }\n",
              "\n",
              "    .dataframe tbody tr th {\n",
              "        vertical-align: top;\n",
              "    }\n",
              "\n",
              "    .dataframe thead th {\n",
              "        text-align: right;\n",
              "    }\n",
              "</style>\n",
              "<table border=\"1\" class=\"dataframe\">\n",
              "  <thead>\n",
              "    <tr style=\"text-align: right;\">\n",
              "      <th></th>\n",
              "      <th>Class label</th>\n",
              "      <th>Alcohol</th>\n",
              "      <th>Malic acid</th>\n",
              "      <th>Ash</th>\n",
              "      <th>Alcalinity of ash</th>\n",
              "      <th>Magnesium</th>\n",
              "      <th>Total phenols</th>\n",
              "      <th>Flavanoids</th>\n",
              "      <th>Nonflavanoid phenols</th>\n",
              "      <th>Proanthocyanins</th>\n",
              "      <th>Color intensity</th>\n",
              "      <th>Hue</th>\n",
              "      <th>OD280/OD315 of diluted wines</th>\n",
              "      <th>Proline</th>\n",
              "    </tr>\n",
              "  </thead>\n",
              "  <tbody>\n",
              "    <tr>\n",
              "      <th>0</th>\n",
              "      <td>1</td>\n",
              "      <td>14.23</td>\n",
              "      <td>1.71</td>\n",
              "      <td>2.43</td>\n",
              "      <td>15.6</td>\n",
              "      <td>127</td>\n",
              "      <td>2.80</td>\n",
              "      <td>3.06</td>\n",
              "      <td>0.28</td>\n",
              "      <td>2.29</td>\n",
              "      <td>5.64</td>\n",
              "      <td>1.04</td>\n",
              "      <td>3.92</td>\n",
              "      <td>1065</td>\n",
              "    </tr>\n",
              "    <tr>\n",
              "      <th>1</th>\n",
              "      <td>1</td>\n",
              "      <td>13.20</td>\n",
              "      <td>1.78</td>\n",
              "      <td>2.14</td>\n",
              "      <td>11.2</td>\n",
              "      <td>100</td>\n",
              "      <td>2.65</td>\n",
              "      <td>2.76</td>\n",
              "      <td>0.26</td>\n",
              "      <td>1.28</td>\n",
              "      <td>4.38</td>\n",
              "      <td>1.05</td>\n",
              "      <td>3.40</td>\n",
              "      <td>1050</td>\n",
              "    </tr>\n",
              "    <tr>\n",
              "      <th>2</th>\n",
              "      <td>1</td>\n",
              "      <td>13.16</td>\n",
              "      <td>2.36</td>\n",
              "      <td>2.67</td>\n",
              "      <td>18.6</td>\n",
              "      <td>101</td>\n",
              "      <td>2.80</td>\n",
              "      <td>3.24</td>\n",
              "      <td>0.30</td>\n",
              "      <td>2.81</td>\n",
              "      <td>5.68</td>\n",
              "      <td>1.03</td>\n",
              "      <td>3.17</td>\n",
              "      <td>1185</td>\n",
              "    </tr>\n",
              "    <tr>\n",
              "      <th>3</th>\n",
              "      <td>1</td>\n",
              "      <td>14.37</td>\n",
              "      <td>1.95</td>\n",
              "      <td>2.50</td>\n",
              "      <td>16.8</td>\n",
              "      <td>113</td>\n",
              "      <td>3.85</td>\n",
              "      <td>3.49</td>\n",
              "      <td>0.24</td>\n",
              "      <td>2.18</td>\n",
              "      <td>7.80</td>\n",
              "      <td>0.86</td>\n",
              "      <td>3.45</td>\n",
              "      <td>1480</td>\n",
              "    </tr>\n",
              "    <tr>\n",
              "      <th>4</th>\n",
              "      <td>1</td>\n",
              "      <td>13.24</td>\n",
              "      <td>2.59</td>\n",
              "      <td>2.87</td>\n",
              "      <td>21.0</td>\n",
              "      <td>118</td>\n",
              "      <td>2.80</td>\n",
              "      <td>2.69</td>\n",
              "      <td>0.39</td>\n",
              "      <td>1.82</td>\n",
              "      <td>4.32</td>\n",
              "      <td>1.04</td>\n",
              "      <td>2.93</td>\n",
              "      <td>735</td>\n",
              "    </tr>\n",
              "    <tr>\n",
              "      <th>...</th>\n",
              "      <td>...</td>\n",
              "      <td>...</td>\n",
              "      <td>...</td>\n",
              "      <td>...</td>\n",
              "      <td>...</td>\n",
              "      <td>...</td>\n",
              "      <td>...</td>\n",
              "      <td>...</td>\n",
              "      <td>...</td>\n",
              "      <td>...</td>\n",
              "      <td>...</td>\n",
              "      <td>...</td>\n",
              "      <td>...</td>\n",
              "      <td>...</td>\n",
              "    </tr>\n",
              "    <tr>\n",
              "      <th>173</th>\n",
              "      <td>3</td>\n",
              "      <td>13.71</td>\n",
              "      <td>5.65</td>\n",
              "      <td>2.45</td>\n",
              "      <td>20.5</td>\n",
              "      <td>95</td>\n",
              "      <td>1.68</td>\n",
              "      <td>0.61</td>\n",
              "      <td>0.52</td>\n",
              "      <td>1.06</td>\n",
              "      <td>7.70</td>\n",
              "      <td>0.64</td>\n",
              "      <td>1.74</td>\n",
              "      <td>740</td>\n",
              "    </tr>\n",
              "    <tr>\n",
              "      <th>174</th>\n",
              "      <td>3</td>\n",
              "      <td>13.40</td>\n",
              "      <td>3.91</td>\n",
              "      <td>2.48</td>\n",
              "      <td>23.0</td>\n",
              "      <td>102</td>\n",
              "      <td>1.80</td>\n",
              "      <td>0.75</td>\n",
              "      <td>0.43</td>\n",
              "      <td>1.41</td>\n",
              "      <td>7.30</td>\n",
              "      <td>0.70</td>\n",
              "      <td>1.56</td>\n",
              "      <td>750</td>\n",
              "    </tr>\n",
              "    <tr>\n",
              "      <th>175</th>\n",
              "      <td>3</td>\n",
              "      <td>13.27</td>\n",
              "      <td>4.28</td>\n",
              "      <td>2.26</td>\n",
              "      <td>20.0</td>\n",
              "      <td>120</td>\n",
              "      <td>1.59</td>\n",
              "      <td>0.69</td>\n",
              "      <td>0.43</td>\n",
              "      <td>1.35</td>\n",
              "      <td>10.20</td>\n",
              "      <td>0.59</td>\n",
              "      <td>1.56</td>\n",
              "      <td>835</td>\n",
              "    </tr>\n",
              "    <tr>\n",
              "      <th>176</th>\n",
              "      <td>3</td>\n",
              "      <td>13.17</td>\n",
              "      <td>2.59</td>\n",
              "      <td>2.37</td>\n",
              "      <td>20.0</td>\n",
              "      <td>120</td>\n",
              "      <td>1.65</td>\n",
              "      <td>0.68</td>\n",
              "      <td>0.53</td>\n",
              "      <td>1.46</td>\n",
              "      <td>9.30</td>\n",
              "      <td>0.60</td>\n",
              "      <td>1.62</td>\n",
              "      <td>840</td>\n",
              "    </tr>\n",
              "    <tr>\n",
              "      <th>177</th>\n",
              "      <td>3</td>\n",
              "      <td>14.13</td>\n",
              "      <td>4.10</td>\n",
              "      <td>2.74</td>\n",
              "      <td>24.5</td>\n",
              "      <td>96</td>\n",
              "      <td>2.05</td>\n",
              "      <td>0.76</td>\n",
              "      <td>0.56</td>\n",
              "      <td>1.35</td>\n",
              "      <td>9.20</td>\n",
              "      <td>0.61</td>\n",
              "      <td>1.60</td>\n",
              "      <td>560</td>\n",
              "    </tr>\n",
              "  </tbody>\n",
              "</table>\n",
              "<p>178 rows × 14 columns</p>\n",
              "</div>\n",
              "      <button class=\"colab-df-convert\" onclick=\"convertToInteractive('df-44b534d6-46a5-44c8-bfea-3a9214da52af')\"\n",
              "              title=\"Convert this dataframe to an interactive table.\"\n",
              "              style=\"display:none;\">\n",
              "        \n",
              "  <svg xmlns=\"http://www.w3.org/2000/svg\" height=\"24px\"viewBox=\"0 0 24 24\"\n",
              "       width=\"24px\">\n",
              "    <path d=\"M0 0h24v24H0V0z\" fill=\"none\"/>\n",
              "    <path d=\"M18.56 5.44l.94 2.06.94-2.06 2.06-.94-2.06-.94-.94-2.06-.94 2.06-2.06.94zm-11 1L8.5 8.5l.94-2.06 2.06-.94-2.06-.94L8.5 2.5l-.94 2.06-2.06.94zm10 10l.94 2.06.94-2.06 2.06-.94-2.06-.94-.94-2.06-.94 2.06-2.06.94z\"/><path d=\"M17.41 7.96l-1.37-1.37c-.4-.4-.92-.59-1.43-.59-.52 0-1.04.2-1.43.59L10.3 9.45l-7.72 7.72c-.78.78-.78 2.05 0 2.83L4 21.41c.39.39.9.59 1.41.59.51 0 1.02-.2 1.41-.59l7.78-7.78 2.81-2.81c.8-.78.8-2.07 0-2.86zM5.41 20L4 18.59l7.72-7.72 1.47 1.35L5.41 20z\"/>\n",
              "  </svg>\n",
              "      </button>\n",
              "      \n",
              "  <style>\n",
              "    .colab-df-container {\n",
              "      display:flex;\n",
              "      flex-wrap:wrap;\n",
              "      gap: 12px;\n",
              "    }\n",
              "\n",
              "    .colab-df-convert {\n",
              "      background-color: #E8F0FE;\n",
              "      border: none;\n",
              "      border-radius: 50%;\n",
              "      cursor: pointer;\n",
              "      display: none;\n",
              "      fill: #1967D2;\n",
              "      height: 32px;\n",
              "      padding: 0 0 0 0;\n",
              "      width: 32px;\n",
              "    }\n",
              "\n",
              "    .colab-df-convert:hover {\n",
              "      background-color: #E2EBFA;\n",
              "      box-shadow: 0px 1px 2px rgba(60, 64, 67, 0.3), 0px 1px 3px 1px rgba(60, 64, 67, 0.15);\n",
              "      fill: #174EA6;\n",
              "    }\n",
              "\n",
              "    [theme=dark] .colab-df-convert {\n",
              "      background-color: #3B4455;\n",
              "      fill: #D2E3FC;\n",
              "    }\n",
              "\n",
              "    [theme=dark] .colab-df-convert:hover {\n",
              "      background-color: #434B5C;\n",
              "      box-shadow: 0px 1px 3px 1px rgba(0, 0, 0, 0.15);\n",
              "      filter: drop-shadow(0px 1px 2px rgba(0, 0, 0, 0.3));\n",
              "      fill: #FFFFFF;\n",
              "    }\n",
              "  </style>\n",
              "\n",
              "      <script>\n",
              "        const buttonEl =\n",
              "          document.querySelector('#df-44b534d6-46a5-44c8-bfea-3a9214da52af button.colab-df-convert');\n",
              "        buttonEl.style.display =\n",
              "          google.colab.kernel.accessAllowed ? 'block' : 'none';\n",
              "\n",
              "        async function convertToInteractive(key) {\n",
              "          const element = document.querySelector('#df-44b534d6-46a5-44c8-bfea-3a9214da52af');\n",
              "          const dataTable =\n",
              "            await google.colab.kernel.invokeFunction('convertToInteractive',\n",
              "                                                     [key], {});\n",
              "          if (!dataTable) return;\n",
              "\n",
              "          const docLinkHtml = 'Like what you see? Visit the ' +\n",
              "            '<a target=\"_blank\" href=https://colab.research.google.com/notebooks/data_table.ipynb>data table notebook</a>'\n",
              "            + ' to learn more about interactive tables.';\n",
              "          element.innerHTML = '';\n",
              "          dataTable['output_type'] = 'display_data';\n",
              "          await google.colab.output.renderOutput(dataTable, element);\n",
              "          const docLink = document.createElement('div');\n",
              "          docLink.innerHTML = docLinkHtml;\n",
              "          element.appendChild(docLink);\n",
              "        }\n",
              "      </script>\n",
              "    </div>\n",
              "  </div>\n",
              "  "
            ]
          },
          "metadata": {},
          "execution_count": 3
        }
      ]
    },
    {
      "cell_type": "code",
      "source": [
        "df.info()\n"
      ],
      "metadata": {
        "id": "Xhqj7fJ2tGat",
        "colab": {
          "base_uri": "https://localhost:8080/"
        },
        "outputId": "a6a3e206-7f97-43e2-fd1c-b2fc683b7f03"
      },
      "execution_count": null,
      "outputs": [
        {
          "output_type": "stream",
          "name": "stdout",
          "text": [
            "<class 'pandas.core.frame.DataFrame'>\n",
            "RangeIndex: 178 entries, 0 to 177\n",
            "Data columns (total 14 columns):\n",
            " #   Column                        Non-Null Count  Dtype  \n",
            "---  ------                        --------------  -----  \n",
            " 0   Class label                   178 non-null    int64  \n",
            " 1   Alcohol                       178 non-null    float64\n",
            " 2   Malic acid                    178 non-null    float64\n",
            " 3   Ash                           178 non-null    float64\n",
            " 4   Alcalinity of ash             178 non-null    float64\n",
            " 5   Magnesium                     178 non-null    int64  \n",
            " 6   Total phenols                 178 non-null    float64\n",
            " 7   Flavanoids                    178 non-null    float64\n",
            " 8   Nonflavanoid phenols          178 non-null    float64\n",
            " 9   Proanthocyanins               178 non-null    float64\n",
            " 10  Color intensity               178 non-null    float64\n",
            " 11  Hue                           178 non-null    float64\n",
            " 12  OD280/OD315 of diluted wines  178 non-null    float64\n",
            " 13  Proline                       178 non-null    int64  \n",
            "dtypes: float64(11), int64(3)\n",
            "memory usage: 19.6 KB\n"
          ]
        }
      ]
    },
    {
      "cell_type": "code",
      "source": [
        "# Imprimir cuántas clases\n",
        "print('Class labels', np.unique(df['Class label']))"
      ],
      "metadata": {
        "colab": {
          "base_uri": "https://localhost:8080/"
        },
        "id": "fjVM8YOf2puP",
        "outputId": "21d0efdd-4f27-4027-8b45-d70789e7dce1"
      },
      "execution_count": null,
      "outputs": [
        {
          "output_type": "stream",
          "name": "stdout",
          "text": [
            "Class labels [1 2 3]\n"
          ]
        }
      ]
    },
    {
      "cell_type": "code",
      "source": [
        "# Las clases no están equilibradas\n",
        "df['Class label'].value_counts(dropna = False)"
      ],
      "metadata": {
        "colab": {
          "base_uri": "https://localhost:8080/"
        },
        "id": "30cKmzeKCBZm",
        "outputId": "e87d1732-1e6d-4ab0-dc4c-f0072edb12ea"
      },
      "execution_count": null,
      "outputs": [
        {
          "output_type": "execute_result",
          "data": {
            "text/plain": [
              "2    71\n",
              "1    59\n",
              "3    48\n",
              "Name: Class label, dtype: int64"
            ]
          },
          "metadata": {},
          "execution_count": 6
        }
      ]
    },
    {
      "cell_type": "code",
      "source": [
        "# Organizar los datos en la matriz de características y el vector de destino\n",
        "X = df.loc[:, df.columns[(df.columns != 'Class label')]]\n",
        "y = df.loc[:, 'Class label'].values"
      ],
      "metadata": {
        "id": "7dH_e12eCFmZ"
      },
      "execution_count": null,
      "outputs": []
    },
    {
      "cell_type": "code",
      "source": [
        "# En encuestas estadísticas,\n",
        "# cuando las subpoblaciones dentro de una población general varían,\n",
        "# Podría ser ventajoso muestrear cada subpoblación (estrato) de forma independiente\n",
        "# La estratificación es el proceso de dividir a los miembros de la población en subgrupos homogéneos antes\n",
        "# del muestreo.\n",
        "#help(train_test_split)"
      ],
      "metadata": {
        "id": "DelEFOgGCNYq"
      },
      "execution_count": null,
      "outputs": []
    },
    {
      "cell_type": "code",
      "source": [
        "# Dividir en conjuntos de prueba y entrenamiento\n",
        "# Proporcionar la matriz de etiquetas de clase y como argumento para estratificar asegura a ambos\n",
        "# el conjunto de entrenamiento y los conjuntos de datos de prueba tienen las mismas proporciones de clase que el\n",
        "# conjunto de datos original\n",
        "X_train, X_test, y_train, y_test =train_test_split(X,\n",
        "                                                   y,\n",
        "                                                   test_size=0.3, \n",
        "                                                   random_state=0, \n",
        "                                                   stratify=y)"
      ],
      "metadata": {
        "id": "KnqIDk5aCPk7"
      },
      "execution_count": null,
      "outputs": []
    },
    {
      "cell_type": "code",
      "source": [
        "unique, counts = np.unique(y_train, return_counts=True)\n",
        "dict(zip(unique, counts))"
      ],
      "metadata": {
        "colab": {
          "base_uri": "https://localhost:8080/"
        },
        "id": "-9_AFuz2CyLD",
        "outputId": "aa32f9c7-fbd4-4f58-a33f-800b11df79ed"
      },
      "execution_count": null,
      "outputs": [
        {
          "output_type": "execute_result",
          "data": {
            "text/plain": [
              "{1: 41, 2: 50, 3: 33}"
            ]
          },
          "metadata": {},
          "execution_count": 10
        }
      ]
    },
    {
      "cell_type": "code",
      "source": [
        "# Estandarizar datos\n",
        "scaler = StandardScaler()\n",
        "# Ajustar solo al conjunto de entrenamiento\n",
        "scaler.fit(X_train)\n",
        "# Aplicar  transform tanto al conjunto de entrenamiento como al conjunto de prueba\n",
        "X_train = scaler.transform(X_train)\n",
        "X_test = scaler.transform(X_test)"
      ],
      "metadata": {
        "id": "EyT2QCp0C0uo"
      },
      "execution_count": null,
      "outputs": []
    },
    {
      "cell_type": "code",
      "source": [
        "log_reg = LogisticRegression(penalty='l1',\n",
        "                        C=1.0,\n",
        "                        solver='liblinear',\n",
        "                        multi_class='ovr')\n",
        "log_reg.fit(X_train, y_train)\n",
        "print('Training accuracy:', log_reg.score(X_train, y_train))\n",
        "print('Test accuracy:', log_reg.score(X_test, y_test))"
      ],
      "metadata": {
        "colab": {
          "base_uri": "https://localhost:8080/"
        },
        "id": "oGZNnKTdDBui",
        "outputId": "d0e92f14-0adb-419f-9de0-933bb4d92799"
      },
      "execution_count": null,
      "outputs": [
        {
          "output_type": "stream",
          "name": "stdout",
          "text": [
            "Training accuracy: 1.0\n",
            "Test accuracy: 1.0\n"
          ]
        }
      ]
    },
    {
      "cell_type": "code",
      "source": [
        "log_reg.intercept_"
      ],
      "metadata": {
        "colab": {
          "base_uri": "https://localhost:8080/"
        },
        "id": "TSIAO7YBDFH7",
        "outputId": "14d4b4e3-5806-4b78-8bed-0b2593f52b13"
      },
      "execution_count": null,
      "outputs": [
        {
          "output_type": "execute_result",
          "data": {
            "text/plain": [
              "array([-1.26372726, -1.21539909, -2.36997344])"
            ]
          },
          "metadata": {},
          "execution_count": 13
        }
      ]
    },
    {
      "cell_type": "code",
      "source": [
        "log_reg.coef_"
      ],
      "metadata": {
        "id": "q_1SRPDGDNG-",
        "colab": {
          "base_uri": "https://localhost:8080/"
        },
        "outputId": "930e3fc6-7d9b-42df-b005-8a8016e4039b"
      },
      "execution_count": null,
      "outputs": [
        {
          "output_type": "execute_result",
          "data": {
            "text/plain": [
              "array([[ 1.24613047,  0.1800259 ,  0.74631354, -1.16404157,  0.        ,\n",
              "         0.        ,  1.15933335,  0.        ,  0.        ,  0.        ,\n",
              "         0.        ,  0.55692512,  2.50887876],\n",
              "       [-1.53756672, -0.38705977, -0.99594067,  0.36566093, -0.05947683,\n",
              "         0.        ,  0.66766245,  0.        ,  0.        , -1.93339627,\n",
              "         1.23464761,  0.        , -2.23135186],\n",
              "       [ 0.1356201 ,  0.16871418,  0.35714854,  0.        ,  0.        ,\n",
              "         0.        , -2.43761641,  0.        ,  0.        ,  1.56374212,\n",
              "        -0.81880876, -0.49287025,  0.        ]])"
            ]
          },
          "metadata": {},
          "execution_count": 14
        }
      ]
    },
    {
      "cell_type": "code",
      "source": [
        "# La primera clase es la puntuación más alta, por lo que será la predicción 0 (la primera clase) para estos datos\n",
        "log_reg.predict_proba(X_test[0:1])"
      ],
      "metadata": {
        "colab": {
          "base_uri": "https://localhost:8080/"
        },
        "id": "XxdcG719nAor",
        "outputId": "1f2787c9-392b-40ce-e051-42781d7c3a9c"
      },
      "execution_count": null,
      "outputs": [
        {
          "output_type": "execute_result",
          "data": {
            "text/plain": [
              "array([[9.76603849e-01, 4.48187975e-04, 2.29479629e-02]])"
            ]
          },
          "metadata": {},
          "execution_count": 15
        }
      ]
    },
    {
      "cell_type": "code",
      "source": [
        "# También podemos obtener la clase asociada con la probabilidad más alta\n",
        "log_reg.predict(X_test[0:1])"
      ],
      "metadata": {
        "colab": {
          "base_uri": "https://localhost:8080/"
        },
        "id": "tUJxnt_WnJFj",
        "outputId": "d481908b-d094-489c-8c59-600a3bdb6e7a"
      },
      "execution_count": null,
      "outputs": [
        {
          "output_type": "execute_result",
          "data": {
            "text/plain": [
              "array([1])"
            ]
          },
          "metadata": {},
          "execution_count": 16
        }
      ]
    },
    {
      "cell_type": "code",
      "source": [
        "log_reg = LogisticRegression(penalty='l2',\n",
        "                        C=1.0,\n",
        "                        solver='liblinear',\n",
        "                        multi_class='ovr')\n",
        "log_reg.fit(X_train, y_train)\n",
        "print('Training accuracy:', log_reg.score(X_train, y_train))\n",
        "print('Test accuracy:', log_reg.score(X_test, y_test))\n",
        "#al usar penalty l2 disminuye ligeramente la prediccion"
      ],
      "metadata": {
        "id": "ld1ac7wenL_L",
        "colab": {
          "base_uri": "https://localhost:8080/"
        },
        "outputId": "ef0ab7ca-9e77-4c31-a28e-e084c65f5777"
      },
      "execution_count": null,
      "outputs": [
        {
          "output_type": "stream",
          "name": "stdout",
          "text": [
            "Training accuracy: 0.9919354838709677\n",
            "Test accuracy: 1.0\n"
          ]
        }
      ]
    },
    {
      "cell_type": "code",
      "source": [
        "#para el caso de usar multinomial, no permite usar el solver anterior y solo permite usar el l2 como penalizador, pero tambien logro un training y test accuracy perfecto\n",
        "log_reg = LogisticRegression(penalty='l2',\n",
        "                        C=1.0,\n",
        "                        solver='lbfgs',\n",
        "                        multi_class='multinomial')\n",
        "log_reg.fit(X_train, y_train)\n",
        "print('Training accuracy:', log_reg.score(X_train, y_train))\n",
        "print('Test accuracy:', log_reg.score(X_test, y_test))\n",
        "#al usar penalty l2 disminuye ligeramente la prediccion"
      ],
      "metadata": {
        "colab": {
          "base_uri": "https://localhost:8080/"
        },
        "id": "vmn9JqZasTWL",
        "outputId": "de1d3421-0c57-43ca-92ec-c9c53c0c311f"
      },
      "execution_count": null,
      "outputs": [
        {
          "output_type": "stream",
          "name": "stdout",
          "text": [
            "Training accuracy: 1.0\n",
            "Test accuracy: 1.0\n"
          ]
        }
      ]
    },
    {
      "cell_type": "code",
      "source": [
        "from sklearn.ensemble import RandomForestClassifier\n",
        "from sklearn.model_selection import GridSearchCV\n",
        "grid = { \n",
        "    'n_estimators': [2,4,6,8,10,12,15,17,20],\n",
        "    'max_features': ['sqrt', 'log2'],\n",
        "    'max_depth' : [2,3,4,5,6,7,8],\n",
        "    'criterion' :['gini', 'entropy'],\n",
        "    'random_state' : [18]\n",
        "}\n",
        "forest_clf = RandomForestClassifier()\n",
        "\n",
        "\n",
        "\n",
        "grid_search = GridSearchCV(forest_clf, grid, cv=4,\n",
        "                          return_train_score=True)\n",
        "\n",
        "grid_search.fit(X_train, y_train)"
      ],
      "metadata": {
        "colab": {
          "base_uri": "https://localhost:8080/"
        },
        "id": "AWxmqtjctBvZ",
        "outputId": "99d785bd-df8f-40bd-e1b9-8d5af543638f"
      },
      "execution_count": null,
      "outputs": [
        {
          "output_type": "execute_result",
          "data": {
            "text/plain": [
              "GridSearchCV(cv=4, estimator=RandomForestClassifier(),\n",
              "             param_grid={'criterion': ['gini', 'entropy'],\n",
              "                         'max_depth': [2, 3, 4, 5, 6, 7, 8],\n",
              "                         'max_features': ['sqrt', 'log2'],\n",
              "                         'n_estimators': [2, 4, 6, 8, 10, 12, 15, 17, 20],\n",
              "                         'random_state': [18]},\n",
              "             return_train_score=True)"
            ]
          },
          "metadata": {},
          "execution_count": 55
        }
      ]
    },
    {
      "cell_type": "code",
      "source": [
        "cvres = grid_search.cv_results_\n",
        "print(cvres['mean_test_score'], cvres['params'])"
      ],
      "metadata": {
        "colab": {
          "base_uri": "https://localhost:8080/"
        },
        "id": "IO1sIN-3uvEa",
        "outputId": "3a30e984-3186-47aa-bf0d-82d1b1413ae1"
      },
      "execution_count": null,
      "outputs": [
        {
          "output_type": "stream",
          "name": "stdout",
          "text": [
            "[0.83870968 0.87903226 0.88709677 0.87903226 0.92741935 0.94354839\n",
            " 0.93548387 0.94354839 0.95967742 0.83870968 0.87903226 0.88709677\n",
            " 0.87903226 0.92741935 0.94354839 0.93548387 0.94354839 0.95967742\n",
            " 0.88709677 0.92741935 0.95967742 0.96774194 0.96774194 0.93548387\n",
            " 0.93548387 0.9516129  0.95967742 0.88709677 0.92741935 0.95967742\n",
            " 0.96774194 0.96774194 0.93548387 0.93548387 0.9516129  0.95967742\n",
            " 0.86290323 0.91935484 0.94354839 0.9516129  0.9516129  0.9516129\n",
            " 0.9516129  0.9516129  0.95967742 0.86290323 0.91935484 0.94354839\n",
            " 0.9516129  0.9516129  0.9516129  0.9516129  0.9516129  0.95967742\n",
            " 0.90322581 0.93548387 0.95967742 0.95967742 0.94354839 0.9516129\n",
            " 0.9516129  0.94354839 0.95967742 0.90322581 0.93548387 0.95967742\n",
            " 0.95967742 0.94354839 0.9516129  0.9516129  0.94354839 0.95967742\n",
            " 0.90322581 0.93548387 0.95967742 0.95967742 0.94354839 0.9516129\n",
            " 0.9516129  0.94354839 0.95967742 0.90322581 0.93548387 0.95967742\n",
            " 0.95967742 0.94354839 0.9516129  0.9516129  0.94354839 0.95967742\n",
            " 0.90322581 0.93548387 0.95967742 0.95967742 0.94354839 0.9516129\n",
            " 0.9516129  0.94354839 0.95967742 0.90322581 0.93548387 0.95967742\n",
            " 0.95967742 0.94354839 0.9516129  0.9516129  0.94354839 0.95967742\n",
            " 0.90322581 0.93548387 0.95967742 0.95967742 0.94354839 0.9516129\n",
            " 0.9516129  0.94354839 0.95967742 0.90322581 0.93548387 0.95967742\n",
            " 0.95967742 0.94354839 0.9516129  0.9516129  0.94354839 0.95967742\n",
            " 0.83870968 0.86290323 0.87903226 0.88709677 0.92741935 0.93548387\n",
            " 0.91935484 0.93548387 0.96774194 0.83870968 0.86290323 0.87903226\n",
            " 0.88709677 0.92741935 0.93548387 0.91935484 0.93548387 0.96774194\n",
            " 0.83064516 0.91129032 0.9516129  0.95967742 0.93548387 0.93548387\n",
            " 0.92741935 0.93548387 0.9516129  0.83064516 0.91129032 0.9516129\n",
            " 0.95967742 0.93548387 0.93548387 0.92741935 0.93548387 0.9516129\n",
            " 0.7983871  0.88709677 0.9516129  0.94354839 0.92741935 0.95967742\n",
            " 0.93548387 0.94354839 0.95967742 0.7983871  0.88709677 0.9516129\n",
            " 0.94354839 0.92741935 0.95967742 0.93548387 0.94354839 0.95967742\n",
            " 0.85483871 0.90322581 0.93548387 0.92741935 0.91935484 0.92741935\n",
            " 0.93548387 0.93548387 0.94354839 0.85483871 0.90322581 0.93548387\n",
            " 0.92741935 0.91935484 0.92741935 0.93548387 0.93548387 0.94354839\n",
            " 0.85483871 0.90322581 0.93548387 0.92741935 0.91935484 0.92741935\n",
            " 0.93548387 0.93548387 0.94354839 0.85483871 0.90322581 0.93548387\n",
            " 0.92741935 0.91935484 0.92741935 0.93548387 0.93548387 0.94354839\n",
            " 0.85483871 0.90322581 0.93548387 0.92741935 0.91935484 0.92741935\n",
            " 0.93548387 0.93548387 0.94354839 0.85483871 0.90322581 0.93548387\n",
            " 0.92741935 0.91935484 0.92741935 0.93548387 0.93548387 0.94354839\n",
            " 0.85483871 0.90322581 0.93548387 0.92741935 0.91935484 0.92741935\n",
            " 0.93548387 0.93548387 0.94354839 0.85483871 0.90322581 0.93548387\n",
            " 0.92741935 0.91935484 0.92741935 0.93548387 0.93548387 0.94354839] [{'criterion': 'gini', 'max_depth': 2, 'max_features': 'sqrt', 'n_estimators': 2, 'random_state': 18}, {'criterion': 'gini', 'max_depth': 2, 'max_features': 'sqrt', 'n_estimators': 4, 'random_state': 18}, {'criterion': 'gini', 'max_depth': 2, 'max_features': 'sqrt', 'n_estimators': 6, 'random_state': 18}, {'criterion': 'gini', 'max_depth': 2, 'max_features': 'sqrt', 'n_estimators': 8, 'random_state': 18}, {'criterion': 'gini', 'max_depth': 2, 'max_features': 'sqrt', 'n_estimators': 10, 'random_state': 18}, {'criterion': 'gini', 'max_depth': 2, 'max_features': 'sqrt', 'n_estimators': 12, 'random_state': 18}, {'criterion': 'gini', 'max_depth': 2, 'max_features': 'sqrt', 'n_estimators': 15, 'random_state': 18}, {'criterion': 'gini', 'max_depth': 2, 'max_features': 'sqrt', 'n_estimators': 17, 'random_state': 18}, {'criterion': 'gini', 'max_depth': 2, 'max_features': 'sqrt', 'n_estimators': 20, 'random_state': 18}, {'criterion': 'gini', 'max_depth': 2, 'max_features': 'log2', 'n_estimators': 2, 'random_state': 18}, {'criterion': 'gini', 'max_depth': 2, 'max_features': 'log2', 'n_estimators': 4, 'random_state': 18}, {'criterion': 'gini', 'max_depth': 2, 'max_features': 'log2', 'n_estimators': 6, 'random_state': 18}, {'criterion': 'gini', 'max_depth': 2, 'max_features': 'log2', 'n_estimators': 8, 'random_state': 18}, {'criterion': 'gini', 'max_depth': 2, 'max_features': 'log2', 'n_estimators': 10, 'random_state': 18}, {'criterion': 'gini', 'max_depth': 2, 'max_features': 'log2', 'n_estimators': 12, 'random_state': 18}, {'criterion': 'gini', 'max_depth': 2, 'max_features': 'log2', 'n_estimators': 15, 'random_state': 18}, {'criterion': 'gini', 'max_depth': 2, 'max_features': 'log2', 'n_estimators': 17, 'random_state': 18}, {'criterion': 'gini', 'max_depth': 2, 'max_features': 'log2', 'n_estimators': 20, 'random_state': 18}, {'criterion': 'gini', 'max_depth': 3, 'max_features': 'sqrt', 'n_estimators': 2, 'random_state': 18}, {'criterion': 'gini', 'max_depth': 3, 'max_features': 'sqrt', 'n_estimators': 4, 'random_state': 18}, {'criterion': 'gini', 'max_depth': 3, 'max_features': 'sqrt', 'n_estimators': 6, 'random_state': 18}, {'criterion': 'gini', 'max_depth': 3, 'max_features': 'sqrt', 'n_estimators': 8, 'random_state': 18}, {'criterion': 'gini', 'max_depth': 3, 'max_features': 'sqrt', 'n_estimators': 10, 'random_state': 18}, {'criterion': 'gini', 'max_depth': 3, 'max_features': 'sqrt', 'n_estimators': 12, 'random_state': 18}, {'criterion': 'gini', 'max_depth': 3, 'max_features': 'sqrt', 'n_estimators': 15, 'random_state': 18}, {'criterion': 'gini', 'max_depth': 3, 'max_features': 'sqrt', 'n_estimators': 17, 'random_state': 18}, {'criterion': 'gini', 'max_depth': 3, 'max_features': 'sqrt', 'n_estimators': 20, 'random_state': 18}, {'criterion': 'gini', 'max_depth': 3, 'max_features': 'log2', 'n_estimators': 2, 'random_state': 18}, {'criterion': 'gini', 'max_depth': 3, 'max_features': 'log2', 'n_estimators': 4, 'random_state': 18}, {'criterion': 'gini', 'max_depth': 3, 'max_features': 'log2', 'n_estimators': 6, 'random_state': 18}, {'criterion': 'gini', 'max_depth': 3, 'max_features': 'log2', 'n_estimators': 8, 'random_state': 18}, {'criterion': 'gini', 'max_depth': 3, 'max_features': 'log2', 'n_estimators': 10, 'random_state': 18}, {'criterion': 'gini', 'max_depth': 3, 'max_features': 'log2', 'n_estimators': 12, 'random_state': 18}, {'criterion': 'gini', 'max_depth': 3, 'max_features': 'log2', 'n_estimators': 15, 'random_state': 18}, {'criterion': 'gini', 'max_depth': 3, 'max_features': 'log2', 'n_estimators': 17, 'random_state': 18}, {'criterion': 'gini', 'max_depth': 3, 'max_features': 'log2', 'n_estimators': 20, 'random_state': 18}, {'criterion': 'gini', 'max_depth': 4, 'max_features': 'sqrt', 'n_estimators': 2, 'random_state': 18}, {'criterion': 'gini', 'max_depth': 4, 'max_features': 'sqrt', 'n_estimators': 4, 'random_state': 18}, {'criterion': 'gini', 'max_depth': 4, 'max_features': 'sqrt', 'n_estimators': 6, 'random_state': 18}, {'criterion': 'gini', 'max_depth': 4, 'max_features': 'sqrt', 'n_estimators': 8, 'random_state': 18}, {'criterion': 'gini', 'max_depth': 4, 'max_features': 'sqrt', 'n_estimators': 10, 'random_state': 18}, {'criterion': 'gini', 'max_depth': 4, 'max_features': 'sqrt', 'n_estimators': 12, 'random_state': 18}, {'criterion': 'gini', 'max_depth': 4, 'max_features': 'sqrt', 'n_estimators': 15, 'random_state': 18}, {'criterion': 'gini', 'max_depth': 4, 'max_features': 'sqrt', 'n_estimators': 17, 'random_state': 18}, {'criterion': 'gini', 'max_depth': 4, 'max_features': 'sqrt', 'n_estimators': 20, 'random_state': 18}, {'criterion': 'gini', 'max_depth': 4, 'max_features': 'log2', 'n_estimators': 2, 'random_state': 18}, {'criterion': 'gini', 'max_depth': 4, 'max_features': 'log2', 'n_estimators': 4, 'random_state': 18}, {'criterion': 'gini', 'max_depth': 4, 'max_features': 'log2', 'n_estimators': 6, 'random_state': 18}, {'criterion': 'gini', 'max_depth': 4, 'max_features': 'log2', 'n_estimators': 8, 'random_state': 18}, {'criterion': 'gini', 'max_depth': 4, 'max_features': 'log2', 'n_estimators': 10, 'random_state': 18}, {'criterion': 'gini', 'max_depth': 4, 'max_features': 'log2', 'n_estimators': 12, 'random_state': 18}, {'criterion': 'gini', 'max_depth': 4, 'max_features': 'log2', 'n_estimators': 15, 'random_state': 18}, {'criterion': 'gini', 'max_depth': 4, 'max_features': 'log2', 'n_estimators': 17, 'random_state': 18}, {'criterion': 'gini', 'max_depth': 4, 'max_features': 'log2', 'n_estimators': 20, 'random_state': 18}, {'criterion': 'gini', 'max_depth': 5, 'max_features': 'sqrt', 'n_estimators': 2, 'random_state': 18}, {'criterion': 'gini', 'max_depth': 5, 'max_features': 'sqrt', 'n_estimators': 4, 'random_state': 18}, {'criterion': 'gini', 'max_depth': 5, 'max_features': 'sqrt', 'n_estimators': 6, 'random_state': 18}, {'criterion': 'gini', 'max_depth': 5, 'max_features': 'sqrt', 'n_estimators': 8, 'random_state': 18}, {'criterion': 'gini', 'max_depth': 5, 'max_features': 'sqrt', 'n_estimators': 10, 'random_state': 18}, {'criterion': 'gini', 'max_depth': 5, 'max_features': 'sqrt', 'n_estimators': 12, 'random_state': 18}, {'criterion': 'gini', 'max_depth': 5, 'max_features': 'sqrt', 'n_estimators': 15, 'random_state': 18}, {'criterion': 'gini', 'max_depth': 5, 'max_features': 'sqrt', 'n_estimators': 17, 'random_state': 18}, {'criterion': 'gini', 'max_depth': 5, 'max_features': 'sqrt', 'n_estimators': 20, 'random_state': 18}, {'criterion': 'gini', 'max_depth': 5, 'max_features': 'log2', 'n_estimators': 2, 'random_state': 18}, {'criterion': 'gini', 'max_depth': 5, 'max_features': 'log2', 'n_estimators': 4, 'random_state': 18}, {'criterion': 'gini', 'max_depth': 5, 'max_features': 'log2', 'n_estimators': 6, 'random_state': 18}, {'criterion': 'gini', 'max_depth': 5, 'max_features': 'log2', 'n_estimators': 8, 'random_state': 18}, {'criterion': 'gini', 'max_depth': 5, 'max_features': 'log2', 'n_estimators': 10, 'random_state': 18}, {'criterion': 'gini', 'max_depth': 5, 'max_features': 'log2', 'n_estimators': 12, 'random_state': 18}, {'criterion': 'gini', 'max_depth': 5, 'max_features': 'log2', 'n_estimators': 15, 'random_state': 18}, {'criterion': 'gini', 'max_depth': 5, 'max_features': 'log2', 'n_estimators': 17, 'random_state': 18}, {'criterion': 'gini', 'max_depth': 5, 'max_features': 'log2', 'n_estimators': 20, 'random_state': 18}, {'criterion': 'gini', 'max_depth': 6, 'max_features': 'sqrt', 'n_estimators': 2, 'random_state': 18}, {'criterion': 'gini', 'max_depth': 6, 'max_features': 'sqrt', 'n_estimators': 4, 'random_state': 18}, {'criterion': 'gini', 'max_depth': 6, 'max_features': 'sqrt', 'n_estimators': 6, 'random_state': 18}, {'criterion': 'gini', 'max_depth': 6, 'max_features': 'sqrt', 'n_estimators': 8, 'random_state': 18}, {'criterion': 'gini', 'max_depth': 6, 'max_features': 'sqrt', 'n_estimators': 10, 'random_state': 18}, {'criterion': 'gini', 'max_depth': 6, 'max_features': 'sqrt', 'n_estimators': 12, 'random_state': 18}, {'criterion': 'gini', 'max_depth': 6, 'max_features': 'sqrt', 'n_estimators': 15, 'random_state': 18}, {'criterion': 'gini', 'max_depth': 6, 'max_features': 'sqrt', 'n_estimators': 17, 'random_state': 18}, {'criterion': 'gini', 'max_depth': 6, 'max_features': 'sqrt', 'n_estimators': 20, 'random_state': 18}, {'criterion': 'gini', 'max_depth': 6, 'max_features': 'log2', 'n_estimators': 2, 'random_state': 18}, {'criterion': 'gini', 'max_depth': 6, 'max_features': 'log2', 'n_estimators': 4, 'random_state': 18}, {'criterion': 'gini', 'max_depth': 6, 'max_features': 'log2', 'n_estimators': 6, 'random_state': 18}, {'criterion': 'gini', 'max_depth': 6, 'max_features': 'log2', 'n_estimators': 8, 'random_state': 18}, {'criterion': 'gini', 'max_depth': 6, 'max_features': 'log2', 'n_estimators': 10, 'random_state': 18}, {'criterion': 'gini', 'max_depth': 6, 'max_features': 'log2', 'n_estimators': 12, 'random_state': 18}, {'criterion': 'gini', 'max_depth': 6, 'max_features': 'log2', 'n_estimators': 15, 'random_state': 18}, {'criterion': 'gini', 'max_depth': 6, 'max_features': 'log2', 'n_estimators': 17, 'random_state': 18}, {'criterion': 'gini', 'max_depth': 6, 'max_features': 'log2', 'n_estimators': 20, 'random_state': 18}, {'criterion': 'gini', 'max_depth': 7, 'max_features': 'sqrt', 'n_estimators': 2, 'random_state': 18}, {'criterion': 'gini', 'max_depth': 7, 'max_features': 'sqrt', 'n_estimators': 4, 'random_state': 18}, {'criterion': 'gini', 'max_depth': 7, 'max_features': 'sqrt', 'n_estimators': 6, 'random_state': 18}, {'criterion': 'gini', 'max_depth': 7, 'max_features': 'sqrt', 'n_estimators': 8, 'random_state': 18}, {'criterion': 'gini', 'max_depth': 7, 'max_features': 'sqrt', 'n_estimators': 10, 'random_state': 18}, {'criterion': 'gini', 'max_depth': 7, 'max_features': 'sqrt', 'n_estimators': 12, 'random_state': 18}, {'criterion': 'gini', 'max_depth': 7, 'max_features': 'sqrt', 'n_estimators': 15, 'random_state': 18}, {'criterion': 'gini', 'max_depth': 7, 'max_features': 'sqrt', 'n_estimators': 17, 'random_state': 18}, {'criterion': 'gini', 'max_depth': 7, 'max_features': 'sqrt', 'n_estimators': 20, 'random_state': 18}, {'criterion': 'gini', 'max_depth': 7, 'max_features': 'log2', 'n_estimators': 2, 'random_state': 18}, {'criterion': 'gini', 'max_depth': 7, 'max_features': 'log2', 'n_estimators': 4, 'random_state': 18}, {'criterion': 'gini', 'max_depth': 7, 'max_features': 'log2', 'n_estimators': 6, 'random_state': 18}, {'criterion': 'gini', 'max_depth': 7, 'max_features': 'log2', 'n_estimators': 8, 'random_state': 18}, {'criterion': 'gini', 'max_depth': 7, 'max_features': 'log2', 'n_estimators': 10, 'random_state': 18}, {'criterion': 'gini', 'max_depth': 7, 'max_features': 'log2', 'n_estimators': 12, 'random_state': 18}, {'criterion': 'gini', 'max_depth': 7, 'max_features': 'log2', 'n_estimators': 15, 'random_state': 18}, {'criterion': 'gini', 'max_depth': 7, 'max_features': 'log2', 'n_estimators': 17, 'random_state': 18}, {'criterion': 'gini', 'max_depth': 7, 'max_features': 'log2', 'n_estimators': 20, 'random_state': 18}, {'criterion': 'gini', 'max_depth': 8, 'max_features': 'sqrt', 'n_estimators': 2, 'random_state': 18}, {'criterion': 'gini', 'max_depth': 8, 'max_features': 'sqrt', 'n_estimators': 4, 'random_state': 18}, {'criterion': 'gini', 'max_depth': 8, 'max_features': 'sqrt', 'n_estimators': 6, 'random_state': 18}, {'criterion': 'gini', 'max_depth': 8, 'max_features': 'sqrt', 'n_estimators': 8, 'random_state': 18}, {'criterion': 'gini', 'max_depth': 8, 'max_features': 'sqrt', 'n_estimators': 10, 'random_state': 18}, {'criterion': 'gini', 'max_depth': 8, 'max_features': 'sqrt', 'n_estimators': 12, 'random_state': 18}, {'criterion': 'gini', 'max_depth': 8, 'max_features': 'sqrt', 'n_estimators': 15, 'random_state': 18}, {'criterion': 'gini', 'max_depth': 8, 'max_features': 'sqrt', 'n_estimators': 17, 'random_state': 18}, {'criterion': 'gini', 'max_depth': 8, 'max_features': 'sqrt', 'n_estimators': 20, 'random_state': 18}, {'criterion': 'gini', 'max_depth': 8, 'max_features': 'log2', 'n_estimators': 2, 'random_state': 18}, {'criterion': 'gini', 'max_depth': 8, 'max_features': 'log2', 'n_estimators': 4, 'random_state': 18}, {'criterion': 'gini', 'max_depth': 8, 'max_features': 'log2', 'n_estimators': 6, 'random_state': 18}, {'criterion': 'gini', 'max_depth': 8, 'max_features': 'log2', 'n_estimators': 8, 'random_state': 18}, {'criterion': 'gini', 'max_depth': 8, 'max_features': 'log2', 'n_estimators': 10, 'random_state': 18}, {'criterion': 'gini', 'max_depth': 8, 'max_features': 'log2', 'n_estimators': 12, 'random_state': 18}, {'criterion': 'gini', 'max_depth': 8, 'max_features': 'log2', 'n_estimators': 15, 'random_state': 18}, {'criterion': 'gini', 'max_depth': 8, 'max_features': 'log2', 'n_estimators': 17, 'random_state': 18}, {'criterion': 'gini', 'max_depth': 8, 'max_features': 'log2', 'n_estimators': 20, 'random_state': 18}, {'criterion': 'entropy', 'max_depth': 2, 'max_features': 'sqrt', 'n_estimators': 2, 'random_state': 18}, {'criterion': 'entropy', 'max_depth': 2, 'max_features': 'sqrt', 'n_estimators': 4, 'random_state': 18}, {'criterion': 'entropy', 'max_depth': 2, 'max_features': 'sqrt', 'n_estimators': 6, 'random_state': 18}, {'criterion': 'entropy', 'max_depth': 2, 'max_features': 'sqrt', 'n_estimators': 8, 'random_state': 18}, {'criterion': 'entropy', 'max_depth': 2, 'max_features': 'sqrt', 'n_estimators': 10, 'random_state': 18}, {'criterion': 'entropy', 'max_depth': 2, 'max_features': 'sqrt', 'n_estimators': 12, 'random_state': 18}, {'criterion': 'entropy', 'max_depth': 2, 'max_features': 'sqrt', 'n_estimators': 15, 'random_state': 18}, {'criterion': 'entropy', 'max_depth': 2, 'max_features': 'sqrt', 'n_estimators': 17, 'random_state': 18}, {'criterion': 'entropy', 'max_depth': 2, 'max_features': 'sqrt', 'n_estimators': 20, 'random_state': 18}, {'criterion': 'entropy', 'max_depth': 2, 'max_features': 'log2', 'n_estimators': 2, 'random_state': 18}, {'criterion': 'entropy', 'max_depth': 2, 'max_features': 'log2', 'n_estimators': 4, 'random_state': 18}, {'criterion': 'entropy', 'max_depth': 2, 'max_features': 'log2', 'n_estimators': 6, 'random_state': 18}, {'criterion': 'entropy', 'max_depth': 2, 'max_features': 'log2', 'n_estimators': 8, 'random_state': 18}, {'criterion': 'entropy', 'max_depth': 2, 'max_features': 'log2', 'n_estimators': 10, 'random_state': 18}, {'criterion': 'entropy', 'max_depth': 2, 'max_features': 'log2', 'n_estimators': 12, 'random_state': 18}, {'criterion': 'entropy', 'max_depth': 2, 'max_features': 'log2', 'n_estimators': 15, 'random_state': 18}, {'criterion': 'entropy', 'max_depth': 2, 'max_features': 'log2', 'n_estimators': 17, 'random_state': 18}, {'criterion': 'entropy', 'max_depth': 2, 'max_features': 'log2', 'n_estimators': 20, 'random_state': 18}, {'criterion': 'entropy', 'max_depth': 3, 'max_features': 'sqrt', 'n_estimators': 2, 'random_state': 18}, {'criterion': 'entropy', 'max_depth': 3, 'max_features': 'sqrt', 'n_estimators': 4, 'random_state': 18}, {'criterion': 'entropy', 'max_depth': 3, 'max_features': 'sqrt', 'n_estimators': 6, 'random_state': 18}, {'criterion': 'entropy', 'max_depth': 3, 'max_features': 'sqrt', 'n_estimators': 8, 'random_state': 18}, {'criterion': 'entropy', 'max_depth': 3, 'max_features': 'sqrt', 'n_estimators': 10, 'random_state': 18}, {'criterion': 'entropy', 'max_depth': 3, 'max_features': 'sqrt', 'n_estimators': 12, 'random_state': 18}, {'criterion': 'entropy', 'max_depth': 3, 'max_features': 'sqrt', 'n_estimators': 15, 'random_state': 18}, {'criterion': 'entropy', 'max_depth': 3, 'max_features': 'sqrt', 'n_estimators': 17, 'random_state': 18}, {'criterion': 'entropy', 'max_depth': 3, 'max_features': 'sqrt', 'n_estimators': 20, 'random_state': 18}, {'criterion': 'entropy', 'max_depth': 3, 'max_features': 'log2', 'n_estimators': 2, 'random_state': 18}, {'criterion': 'entropy', 'max_depth': 3, 'max_features': 'log2', 'n_estimators': 4, 'random_state': 18}, {'criterion': 'entropy', 'max_depth': 3, 'max_features': 'log2', 'n_estimators': 6, 'random_state': 18}, {'criterion': 'entropy', 'max_depth': 3, 'max_features': 'log2', 'n_estimators': 8, 'random_state': 18}, {'criterion': 'entropy', 'max_depth': 3, 'max_features': 'log2', 'n_estimators': 10, 'random_state': 18}, {'criterion': 'entropy', 'max_depth': 3, 'max_features': 'log2', 'n_estimators': 12, 'random_state': 18}, {'criterion': 'entropy', 'max_depth': 3, 'max_features': 'log2', 'n_estimators': 15, 'random_state': 18}, {'criterion': 'entropy', 'max_depth': 3, 'max_features': 'log2', 'n_estimators': 17, 'random_state': 18}, {'criterion': 'entropy', 'max_depth': 3, 'max_features': 'log2', 'n_estimators': 20, 'random_state': 18}, {'criterion': 'entropy', 'max_depth': 4, 'max_features': 'sqrt', 'n_estimators': 2, 'random_state': 18}, {'criterion': 'entropy', 'max_depth': 4, 'max_features': 'sqrt', 'n_estimators': 4, 'random_state': 18}, {'criterion': 'entropy', 'max_depth': 4, 'max_features': 'sqrt', 'n_estimators': 6, 'random_state': 18}, {'criterion': 'entropy', 'max_depth': 4, 'max_features': 'sqrt', 'n_estimators': 8, 'random_state': 18}, {'criterion': 'entropy', 'max_depth': 4, 'max_features': 'sqrt', 'n_estimators': 10, 'random_state': 18}, {'criterion': 'entropy', 'max_depth': 4, 'max_features': 'sqrt', 'n_estimators': 12, 'random_state': 18}, {'criterion': 'entropy', 'max_depth': 4, 'max_features': 'sqrt', 'n_estimators': 15, 'random_state': 18}, {'criterion': 'entropy', 'max_depth': 4, 'max_features': 'sqrt', 'n_estimators': 17, 'random_state': 18}, {'criterion': 'entropy', 'max_depth': 4, 'max_features': 'sqrt', 'n_estimators': 20, 'random_state': 18}, {'criterion': 'entropy', 'max_depth': 4, 'max_features': 'log2', 'n_estimators': 2, 'random_state': 18}, {'criterion': 'entropy', 'max_depth': 4, 'max_features': 'log2', 'n_estimators': 4, 'random_state': 18}, {'criterion': 'entropy', 'max_depth': 4, 'max_features': 'log2', 'n_estimators': 6, 'random_state': 18}, {'criterion': 'entropy', 'max_depth': 4, 'max_features': 'log2', 'n_estimators': 8, 'random_state': 18}, {'criterion': 'entropy', 'max_depth': 4, 'max_features': 'log2', 'n_estimators': 10, 'random_state': 18}, {'criterion': 'entropy', 'max_depth': 4, 'max_features': 'log2', 'n_estimators': 12, 'random_state': 18}, {'criterion': 'entropy', 'max_depth': 4, 'max_features': 'log2', 'n_estimators': 15, 'random_state': 18}, {'criterion': 'entropy', 'max_depth': 4, 'max_features': 'log2', 'n_estimators': 17, 'random_state': 18}, {'criterion': 'entropy', 'max_depth': 4, 'max_features': 'log2', 'n_estimators': 20, 'random_state': 18}, {'criterion': 'entropy', 'max_depth': 5, 'max_features': 'sqrt', 'n_estimators': 2, 'random_state': 18}, {'criterion': 'entropy', 'max_depth': 5, 'max_features': 'sqrt', 'n_estimators': 4, 'random_state': 18}, {'criterion': 'entropy', 'max_depth': 5, 'max_features': 'sqrt', 'n_estimators': 6, 'random_state': 18}, {'criterion': 'entropy', 'max_depth': 5, 'max_features': 'sqrt', 'n_estimators': 8, 'random_state': 18}, {'criterion': 'entropy', 'max_depth': 5, 'max_features': 'sqrt', 'n_estimators': 10, 'random_state': 18}, {'criterion': 'entropy', 'max_depth': 5, 'max_features': 'sqrt', 'n_estimators': 12, 'random_state': 18}, {'criterion': 'entropy', 'max_depth': 5, 'max_features': 'sqrt', 'n_estimators': 15, 'random_state': 18}, {'criterion': 'entropy', 'max_depth': 5, 'max_features': 'sqrt', 'n_estimators': 17, 'random_state': 18}, {'criterion': 'entropy', 'max_depth': 5, 'max_features': 'sqrt', 'n_estimators': 20, 'random_state': 18}, {'criterion': 'entropy', 'max_depth': 5, 'max_features': 'log2', 'n_estimators': 2, 'random_state': 18}, {'criterion': 'entropy', 'max_depth': 5, 'max_features': 'log2', 'n_estimators': 4, 'random_state': 18}, {'criterion': 'entropy', 'max_depth': 5, 'max_features': 'log2', 'n_estimators': 6, 'random_state': 18}, {'criterion': 'entropy', 'max_depth': 5, 'max_features': 'log2', 'n_estimators': 8, 'random_state': 18}, {'criterion': 'entropy', 'max_depth': 5, 'max_features': 'log2', 'n_estimators': 10, 'random_state': 18}, {'criterion': 'entropy', 'max_depth': 5, 'max_features': 'log2', 'n_estimators': 12, 'random_state': 18}, {'criterion': 'entropy', 'max_depth': 5, 'max_features': 'log2', 'n_estimators': 15, 'random_state': 18}, {'criterion': 'entropy', 'max_depth': 5, 'max_features': 'log2', 'n_estimators': 17, 'random_state': 18}, {'criterion': 'entropy', 'max_depth': 5, 'max_features': 'log2', 'n_estimators': 20, 'random_state': 18}, {'criterion': 'entropy', 'max_depth': 6, 'max_features': 'sqrt', 'n_estimators': 2, 'random_state': 18}, {'criterion': 'entropy', 'max_depth': 6, 'max_features': 'sqrt', 'n_estimators': 4, 'random_state': 18}, {'criterion': 'entropy', 'max_depth': 6, 'max_features': 'sqrt', 'n_estimators': 6, 'random_state': 18}, {'criterion': 'entropy', 'max_depth': 6, 'max_features': 'sqrt', 'n_estimators': 8, 'random_state': 18}, {'criterion': 'entropy', 'max_depth': 6, 'max_features': 'sqrt', 'n_estimators': 10, 'random_state': 18}, {'criterion': 'entropy', 'max_depth': 6, 'max_features': 'sqrt', 'n_estimators': 12, 'random_state': 18}, {'criterion': 'entropy', 'max_depth': 6, 'max_features': 'sqrt', 'n_estimators': 15, 'random_state': 18}, {'criterion': 'entropy', 'max_depth': 6, 'max_features': 'sqrt', 'n_estimators': 17, 'random_state': 18}, {'criterion': 'entropy', 'max_depth': 6, 'max_features': 'sqrt', 'n_estimators': 20, 'random_state': 18}, {'criterion': 'entropy', 'max_depth': 6, 'max_features': 'log2', 'n_estimators': 2, 'random_state': 18}, {'criterion': 'entropy', 'max_depth': 6, 'max_features': 'log2', 'n_estimators': 4, 'random_state': 18}, {'criterion': 'entropy', 'max_depth': 6, 'max_features': 'log2', 'n_estimators': 6, 'random_state': 18}, {'criterion': 'entropy', 'max_depth': 6, 'max_features': 'log2', 'n_estimators': 8, 'random_state': 18}, {'criterion': 'entropy', 'max_depth': 6, 'max_features': 'log2', 'n_estimators': 10, 'random_state': 18}, {'criterion': 'entropy', 'max_depth': 6, 'max_features': 'log2', 'n_estimators': 12, 'random_state': 18}, {'criterion': 'entropy', 'max_depth': 6, 'max_features': 'log2', 'n_estimators': 15, 'random_state': 18}, {'criterion': 'entropy', 'max_depth': 6, 'max_features': 'log2', 'n_estimators': 17, 'random_state': 18}, {'criterion': 'entropy', 'max_depth': 6, 'max_features': 'log2', 'n_estimators': 20, 'random_state': 18}, {'criterion': 'entropy', 'max_depth': 7, 'max_features': 'sqrt', 'n_estimators': 2, 'random_state': 18}, {'criterion': 'entropy', 'max_depth': 7, 'max_features': 'sqrt', 'n_estimators': 4, 'random_state': 18}, {'criterion': 'entropy', 'max_depth': 7, 'max_features': 'sqrt', 'n_estimators': 6, 'random_state': 18}, {'criterion': 'entropy', 'max_depth': 7, 'max_features': 'sqrt', 'n_estimators': 8, 'random_state': 18}, {'criterion': 'entropy', 'max_depth': 7, 'max_features': 'sqrt', 'n_estimators': 10, 'random_state': 18}, {'criterion': 'entropy', 'max_depth': 7, 'max_features': 'sqrt', 'n_estimators': 12, 'random_state': 18}, {'criterion': 'entropy', 'max_depth': 7, 'max_features': 'sqrt', 'n_estimators': 15, 'random_state': 18}, {'criterion': 'entropy', 'max_depth': 7, 'max_features': 'sqrt', 'n_estimators': 17, 'random_state': 18}, {'criterion': 'entropy', 'max_depth': 7, 'max_features': 'sqrt', 'n_estimators': 20, 'random_state': 18}, {'criterion': 'entropy', 'max_depth': 7, 'max_features': 'log2', 'n_estimators': 2, 'random_state': 18}, {'criterion': 'entropy', 'max_depth': 7, 'max_features': 'log2', 'n_estimators': 4, 'random_state': 18}, {'criterion': 'entropy', 'max_depth': 7, 'max_features': 'log2', 'n_estimators': 6, 'random_state': 18}, {'criterion': 'entropy', 'max_depth': 7, 'max_features': 'log2', 'n_estimators': 8, 'random_state': 18}, {'criterion': 'entropy', 'max_depth': 7, 'max_features': 'log2', 'n_estimators': 10, 'random_state': 18}, {'criterion': 'entropy', 'max_depth': 7, 'max_features': 'log2', 'n_estimators': 12, 'random_state': 18}, {'criterion': 'entropy', 'max_depth': 7, 'max_features': 'log2', 'n_estimators': 15, 'random_state': 18}, {'criterion': 'entropy', 'max_depth': 7, 'max_features': 'log2', 'n_estimators': 17, 'random_state': 18}, {'criterion': 'entropy', 'max_depth': 7, 'max_features': 'log2', 'n_estimators': 20, 'random_state': 18}, {'criterion': 'entropy', 'max_depth': 8, 'max_features': 'sqrt', 'n_estimators': 2, 'random_state': 18}, {'criterion': 'entropy', 'max_depth': 8, 'max_features': 'sqrt', 'n_estimators': 4, 'random_state': 18}, {'criterion': 'entropy', 'max_depth': 8, 'max_features': 'sqrt', 'n_estimators': 6, 'random_state': 18}, {'criterion': 'entropy', 'max_depth': 8, 'max_features': 'sqrt', 'n_estimators': 8, 'random_state': 18}, {'criterion': 'entropy', 'max_depth': 8, 'max_features': 'sqrt', 'n_estimators': 10, 'random_state': 18}, {'criterion': 'entropy', 'max_depth': 8, 'max_features': 'sqrt', 'n_estimators': 12, 'random_state': 18}, {'criterion': 'entropy', 'max_depth': 8, 'max_features': 'sqrt', 'n_estimators': 15, 'random_state': 18}, {'criterion': 'entropy', 'max_depth': 8, 'max_features': 'sqrt', 'n_estimators': 17, 'random_state': 18}, {'criterion': 'entropy', 'max_depth': 8, 'max_features': 'sqrt', 'n_estimators': 20, 'random_state': 18}, {'criterion': 'entropy', 'max_depth': 8, 'max_features': 'log2', 'n_estimators': 2, 'random_state': 18}, {'criterion': 'entropy', 'max_depth': 8, 'max_features': 'log2', 'n_estimators': 4, 'random_state': 18}, {'criterion': 'entropy', 'max_depth': 8, 'max_features': 'log2', 'n_estimators': 6, 'random_state': 18}, {'criterion': 'entropy', 'max_depth': 8, 'max_features': 'log2', 'n_estimators': 8, 'random_state': 18}, {'criterion': 'entropy', 'max_depth': 8, 'max_features': 'log2', 'n_estimators': 10, 'random_state': 18}, {'criterion': 'entropy', 'max_depth': 8, 'max_features': 'log2', 'n_estimators': 12, 'random_state': 18}, {'criterion': 'entropy', 'max_depth': 8, 'max_features': 'log2', 'n_estimators': 15, 'random_state': 18}, {'criterion': 'entropy', 'max_depth': 8, 'max_features': 'log2', 'n_estimators': 17, 'random_state': 18}, {'criterion': 'entropy', 'max_depth': 8, 'max_features': 'log2', 'n_estimators': 20, 'random_state': 18}]\n"
          ]
        }
      ]
    },
    {
      "cell_type": "code",
      "source": [
        "grid_search.best_params_"
      ],
      "metadata": {
        "colab": {
          "base_uri": "https://localhost:8080/"
        },
        "id": "Kp0grkX7uvjp",
        "outputId": "76fbff53-aa82-4b94-dc83-8000656a8679"
      },
      "execution_count": null,
      "outputs": [
        {
          "output_type": "execute_result",
          "data": {
            "text/plain": [
              "{'criterion': 'gini',\n",
              " 'max_depth': 3,\n",
              " 'max_features': 'sqrt',\n",
              " 'n_estimators': 8,\n",
              " 'random_state': 18}"
            ]
          },
          "metadata": {},
          "execution_count": 57
        }
      ]
    },
    {
      "cell_type": "code",
      "source": [
        "grid_search.best_score_"
      ],
      "metadata": {
        "colab": {
          "base_uri": "https://localhost:8080/"
        },
        "id": "w9E-6_e_u2n4",
        "outputId": "4d0dca68-bf64-4dae-eef0-199186fed07d"
      },
      "execution_count": null,
      "outputs": [
        {
          "output_type": "execute_result",
          "data": {
            "text/plain": [
              "0.967741935483871"
            ]
          },
          "metadata": {},
          "execution_count": 58
        }
      ]
    },
    {
      "cell_type": "code",
      "source": [
        "grid_search.score(X_test, y_test)"
      ],
      "metadata": {
        "id": "xNX02Hy83aui",
        "outputId": "872a4a00-4c30-49a3-ee17-2c81f0ce32bd",
        "colab": {
          "base_uri": "https://localhost:8080/"
        }
      },
      "execution_count": null,
      "outputs": [
        {
          "output_type": "execute_result",
          "data": {
            "text/plain": [
              "1.0"
            ]
          },
          "metadata": {},
          "execution_count": 59
        }
      ]
    },
    {
      "cell_type": "code",
      "source": [
        "from sklearn.neighbors import KNeighborsClassifier\n",
        "grid2 = { \n",
        "    'n_neighbors': [2, 3, 4, 5, 6, 7, 8,9,10],\n",
        "    'weights': ['uniform', 'distance'],\n",
        "    'leaf_size' : [4,5,6,7,8,9,10,15,20,25,30,40,50],\n",
        "    }\n",
        "knn_clf = KNeighborsClassifier()\n",
        "\n",
        "\n",
        "\n",
        "grid_search2 = GridSearchCV(knn_clf, grid2, cv=4,\n",
        "                          return_train_score=True)\n",
        "\n",
        "grid_search2.fit(X_train, y_train)"
      ],
      "metadata": {
        "colab": {
          "base_uri": "https://localhost:8080/"
        },
        "id": "CNZhbjGbx7XB",
        "outputId": "6c8aa5dd-2daf-42f0-a5a5-3310928d195f"
      },
      "execution_count": null,
      "outputs": [
        {
          "output_type": "execute_result",
          "data": {
            "text/plain": [
              "GridSearchCV(cv=4, estimator=KNeighborsClassifier(),\n",
              "             param_grid={'leaf_size': [4, 5, 6, 7, 8, 9, 10, 15, 20, 25, 30, 40,\n",
              "                                       50],\n",
              "                         'n_neighbors': [2, 3, 4, 5, 6, 7, 8, 9, 10],\n",
              "                         'weights': ['uniform', 'distance']},\n",
              "             return_train_score=True)"
            ]
          },
          "metadata": {},
          "execution_count": 40
        }
      ]
    },
    {
      "cell_type": "code",
      "source": [
        "grid_search2.best_params_"
      ],
      "metadata": {
        "colab": {
          "base_uri": "https://localhost:8080/"
        },
        "id": "1xaejuPOzwuH",
        "outputId": "8f8a5d2a-02e6-4a75-82f9-1247c843ad9a"
      },
      "execution_count": null,
      "outputs": [
        {
          "output_type": "execute_result",
          "data": {
            "text/plain": [
              "{'leaf_size': 4, 'n_neighbors': 8, 'weights': 'uniform'}"
            ]
          },
          "metadata": {},
          "execution_count": 41
        }
      ]
    },
    {
      "cell_type": "code",
      "source": [
        "grid_search2.best_score_"
      ],
      "metadata": {
        "colab": {
          "base_uri": "https://localhost:8080/"
        },
        "id": "VRILV8Mpzyng",
        "outputId": "3bacf5c9-c6b7-4d63-8cf4-7377949258cf"
      },
      "execution_count": null,
      "outputs": [
        {
          "output_type": "execute_result",
          "data": {
            "text/plain": [
              "0.9596774193548387"
            ]
          },
          "metadata": {},
          "execution_count": 44
        }
      ]
    },
    {
      "cell_type": "code",
      "source": [
        "grid_search2.score(X_test, y_test)"
      ],
      "metadata": {
        "colab": {
          "base_uri": "https://localhost:8080/"
        },
        "id": "hkwzTlZWz0yQ",
        "outputId": "730daeab-c832-45e0-b174-025740b193e0"
      },
      "execution_count": null,
      "outputs": [
        {
          "output_type": "execute_result",
          "data": {
            "text/plain": [
              "0.9629629629629629"
            ]
          },
          "metadata": {},
          "execution_count": 54
        }
      ]
    },
    {
      "cell_type": "markdown",
      "source": [
        "¿Qué modelo funcionó mejor?\n",
        "\n",
        "Funcionó mejor el modelo de random forest\n",
        "\n",
        "¿Cuáles son las características más importantes de tus modelos? ¿Hay algún modelo que te haya gustado más y por qué?\n",
        "\n",
        "\n",
        "En general me gusta mucho el modelo de random forest, con gridsearch, es muy potente, no necesita escalamientos, sirve para todo tipo de problemas y es interpretable."
      ],
      "metadata": {
        "id": "VIuO4b5wVc-I"
      }
    }
  ]
}